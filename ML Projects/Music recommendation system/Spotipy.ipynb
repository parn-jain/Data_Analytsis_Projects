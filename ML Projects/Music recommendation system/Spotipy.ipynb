{
 "cells": [
  {
   "cell_type": "code",
   "execution_count": 13,
   "id": "80049317",
   "metadata": {},
   "outputs": [],
   "source": [
    "import pandas as pd\n",
    "# import spotipy as sp\n",
    "import spotipy\n",
    "from spotipy.oauth2 import SpotifyClientCredentials"
   ]
  },
  {
   "cell_type": "code",
   "execution_count": 14,
   "id": "d3091d04",
   "metadata": {},
   "outputs": [
    {
     "data": {
      "text/plain": [
       "['CLIENT_CREDS_ENV_VARS',\n",
       " 'CacheFileHandler',\n",
       " 'CacheHandler',\n",
       " 'DjangoSessionCacheHandler',\n",
       " 'FlaskSessionCacheHandler',\n",
       " 'MemoryCacheHandler',\n",
       " 'RedisCacheHandler',\n",
       " 'Spotify',\n",
       " 'SpotifyClientCredentials',\n",
       " 'SpotifyException',\n",
       " 'SpotifyImplicitGrant',\n",
       " 'SpotifyOAuth',\n",
       " 'SpotifyOauthError',\n",
       " 'SpotifyPKCE',\n",
       " 'SpotifyStateError',\n",
       " '__builtins__',\n",
       " '__cached__',\n",
       " '__doc__',\n",
       " '__file__',\n",
       " '__loader__',\n",
       " '__name__',\n",
       " '__package__',\n",
       " '__path__',\n",
       " '__spec__',\n",
       " 'cache_handler',\n",
       " 'client',\n",
       " 'exceptions',\n",
       " 'oauth2',\n",
       " 'prompt_for_user_token',\n",
       " 'util']"
      ]
     },
     "execution_count": 14,
     "metadata": {},
     "output_type": "execute_result"
    }
   ],
   "source": [
    "dir(sp)"
   ]
  },
  {
   "cell_type": "code",
   "execution_count": 17,
   "id": "b6ea65ec",
   "metadata": {},
   "outputs": [
    {
     "name": "stdout",
     "output_type": "stream",
     "text": [
      "Portraits (+ Remixes)\n",
      "Portraits\n",
      "Young Heart\n",
      "Beautiful Lies (Deluxe)\n",
      "Beautiful Lies\n",
      "Fire Within (Deluxe)\n",
      "Fire Within\n",
      "Live in London\n",
      "Birdy (Deluxe Version)\n",
      "Birdy\n"
     ]
    }
   ],
   "source": [
    "import spotipy\n",
    "from spotipy.oauth2 import SpotifyClientCredentials\n",
    "\n",
    "birdy_uri = 'spotify:artist:2WX2uTcsvV5OnS0inACecP'\n",
    "spotify = spotipy.Spotify(client_credentials_manager=SpotifyClientCredentials(client_id='54237daba28c45cdb280c2c2fe7110d0', client_secret='b4df4002cd1c413e931ac5ce91f3ea22'))\n",
    "\n",
    "results = spotify.artist_albums(birdy_uri, album_type='album')\n",
    "albums = results['items']\n",
    "while results['next']:\n",
    "    results = spotify.next(results)\n",
    "    albums.extend(results['items'])\n",
    "\n",
    "for album in albums:\n",
    "    print(album['name'])"
   ]
  },
  {
   "cell_type": "code",
   "execution_count": 19,
   "id": "b34c20af",
   "metadata": {},
   "outputs": [
    {
     "name": "stdout",
     "output_type": "stream",
     "text": [
      "Arijit Singh (All Time Hits)\n",
      "Arijit Singh Hits\n",
      "Arijit Singh - India Tour Hits\n",
      "Bismillah\n",
      "YRF Top 10 - Nightout Sounds\n",
      "YRF Top 10 - Bollywood Remixed\n",
      "Pagglait\n",
      "YRF Top 10 - Midnight Hour\n",
      "Ultimate Love Songs - Arijit Singh\n",
      "Acche Din, Acche Gaane\n",
      "Groove With Arijit Singh\n",
      "Chokher Bahire (Original Motion Picture Soundtrack)\n",
      "Murshida and Other Hits\n",
      "Yours Truly Arijit\n",
      "Arijit Singh - Ultimate Love Songs\n",
      "Shudhu Tomari Jonyo\n",
      "Golpo Holeo Sotti\n",
      "Chander Pahar\n",
      "Bojhena Se Bojhena\n"
     ]
    }
   ],
   "source": [
    "import spotipy\n",
    "from spotipy.oauth2 import SpotifyClientCredentials\n",
    "\n",
    "# Set up Spotipy with your credentials\n",
    "spotify = spotipy.Spotify(client_credentials_manager=SpotifyClientCredentials(client_id='54237daba28c45cdb280c2c2fe7110d0', client_secret='b4df4002cd1c413e931ac5ce91f3ea22'))\n",
    "\n",
    "# Input the artist's name\n",
    "artist_name = 'Arijit Singh'\n",
    "\n",
    "# Search for the artist\n",
    "results = spotify.search(q='artist:' + artist_name, type='artist')\n",
    "items = results['artists']['items']\n",
    "\n",
    "if len(items) > 0:\n",
    "    # Get the URI of the first artist found\n",
    "    artist_uri = items[0]['uri']\n",
    "\n",
    "    # Get the albums of the artist using the artist's URI\n",
    "    results = spotify.artist_albums(artist_uri, album_type='album')\n",
    "    albums = results['items']\n",
    "\n",
    "    while results['next']:\n",
    "        results = spotify.next(results)\n",
    "        albums.extend(results['items'])\n",
    "\n",
    "    # Print the album names\n",
    "    for album in albums:\n",
    "        print(album['name'])\n",
    "else:\n",
    "    print(\"Artist not found.\")\n"
   ]
  },
  {
   "cell_type": "code",
   "execution_count": null,
   "id": "90f74b84",
   "metadata": {},
   "outputs": [],
   "source": []
  }
 ],
 "metadata": {
  "kernelspec": {
   "display_name": "Python 3 (ipykernel)",
   "language": "python",
   "name": "python3"
  },
  "language_info": {
   "codemirror_mode": {
    "name": "ipython",
    "version": 3
   },
   "file_extension": ".py",
   "mimetype": "text/x-python",
   "name": "python",
   "nbconvert_exporter": "python",
   "pygments_lexer": "ipython3",
   "version": "3.10.5"
  }
 },
 "nbformat": 4,
 "nbformat_minor": 5
}
